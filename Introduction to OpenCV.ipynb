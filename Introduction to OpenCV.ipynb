{
 "cells": [
  {
   "cell_type": "code",
   "execution_count": 101,
   "id": "81274234",
   "metadata": {},
   "outputs": [],
   "source": [
    "import cv2\n",
    "import numpy as np"
   ]
  },
  {
   "cell_type": "code",
   "execution_count": 2,
   "id": "78754d0a",
   "metadata": {},
   "outputs": [
    {
     "data": {
      "text/plain": [
       "(739, 600, 3)"
      ]
     },
     "execution_count": 2,
     "metadata": {},
     "output_type": "execute_result"
    }
   ],
   "source": [
    "img = cv2.imread(r'C:\\Users\\Lenovo\\Desktop\\open_cv_data\\Exercise Files\\Ch02\\02_01 Begin\\opencv-logo.png')\n",
    "\n",
    "img.shape"
   ]
  },
  {
   "cell_type": "markdown",
   "id": "b15b7f63",
   "metadata": {},
   "source": [
    "We see that the image has 739 pixels with 600 columns, and has 3 (bgr) channels."
   ]
  },
  {
   "cell_type": "code",
   "execution_count": 3,
   "id": "cc49cbc2",
   "metadata": {},
   "outputs": [
    {
     "data": {
      "text/plain": [
       "dtype('uint8')"
      ]
     },
     "execution_count": 3,
     "metadata": {},
     "output_type": "execute_result"
    }
   ],
   "source": [
    "img.dtype"
   ]
  },
  {
   "cell_type": "markdown",
   "id": "4a3a23c4",
   "metadata": {},
   "source": [
    "Note that the data type of img is 'uint8' which indicates the maximum values of a $2^8$ values in each pixel, i.e. the range of a pixel is $2^8$"
   ]
  },
  {
   "cell_type": "code",
   "execution_count": 6,
   "id": "871c6c2f",
   "metadata": {},
   "outputs": [],
   "source": [
    "# we can open a window to display the image with namedWindow\n",
    "cv2.namedWindow('Image',cv2.WINDOW_NORMAL) \n",
    "cv2.imshow('Image', img)\n",
    "\n",
    "# add a wait element so that the image will hang \n",
    "cv2.waitKey(0)\n",
    "\n",
    "# we can call destroyAllWindows which closes the window when we press on any key \n",
    "cv2.destroyAllWindows()"
   ]
  },
  {
   "cell_type": "code",
   "execution_count": 7,
   "id": "2e7b87ed",
   "metadata": {},
   "outputs": [
    {
     "data": {
      "text/plain": [
       "True"
      ]
     },
     "execution_count": 7,
     "metadata": {},
     "output_type": "execute_result"
    }
   ],
   "source": [
    "# we can store image with imwrite. we can even change the file type such as from png to jpg\n",
    "cv2.imwrite('image2.jpg', img)"
   ]
  },
  {
   "cell_type": "markdown",
   "id": "da483b3e",
   "metadata": {},
   "source": [
    "Let's create a black cell with `np.zeros` and show it in cv2:"
   ]
  },
  {
   "cell_type": "code",
   "execution_count": 8,
   "id": "f7363718",
   "metadata": {},
   "outputs": [],
   "source": [
    "black = np.zeros([140, 200, 3], 'uint8')\n",
    "\n",
    "cv2.namedWindow('Black', cv2.WINDOW_NORMAL)\n",
    "\n",
    "cv2.waitKey(0)\n",
    "cv2.destroyAllWindows()"
   ]
  },
  {
   "cell_type": "code",
   "execution_count": 9,
   "id": "2ad803d6",
   "metadata": {},
   "outputs": [],
   "source": [
    "ones = np.ones([150, 110, 3], 'uint8')\n",
    "white = ones*(2**8-1)\n",
    "\n",
    "cv2.namedWindow('White', cv2.WINDOW_NORMAL)\n",
    "cv2.imshow('White', white)\n",
    "\n",
    "cv2.waitKey(0)\n",
    "cv2.destroyAllWindows()"
   ]
  },
  {
   "cell_type": "markdown",
   "id": "c137be4e",
   "metadata": {},
   "source": [
    "Let's now create a blue image:"
   ]
  },
  {
   "cell_type": "code",
   "execution_count": 10,
   "id": "e67dc0ff",
   "metadata": {},
   "outputs": [],
   "source": [
    "blue = ones.copy()\n",
    "blue[:, :] = (255, 0, 0)\n",
    "\n",
    "cv2.namedWindow('Blue', cv2.WINDOW_NORMAL)\n",
    "cv2.imshow('Blue', blue)\n",
    "\n",
    "cv2.waitKey(0)\n",
    "cv2.destroyAllWindows()"
   ]
  },
  {
   "cell_type": "markdown",
   "id": "187dad1c",
   "metadata": {},
   "source": [
    "BGR TO HSV transformation:"
   ]
  },
  {
   "cell_type": "code",
   "execution_count": 11,
   "id": "cf6507d1",
   "metadata": {},
   "outputs": [],
   "source": [
    "butterfly = cv2.imread(r'C:\\Users\\Lenovo\\Desktop\\open_cv_data\\Exercise Files\\Ch02\\02_05 Begin\\butterfly.jpg', 1)\n",
    "\n",
    "cv2.imshow('BF', butterfly)\n",
    "cv2.moveWindow('BF', 0, 0)\n",
    "\n",
    "b, g, r = cv2.split(butterfly)\n",
    "height, width, channel = butterfly.shape\n",
    "\n",
    "rgb_split = np.empty([height, width*3, channel], 'uint8')\n",
    "\n",
    "rgb_split[:, 0:width] = cv2.merge([b, b, b])\n",
    "rgb_split[:, width:2*width] = cv2.merge([g, g, g])\n",
    "rgb_split[:, 2*width:3*width] = cv2.merge([r, r, r])\n",
    "\n",
    "cv2.imshow('Split', rgb_split)\n",
    "cv2.moveWindow('Split', 0, height)\n",
    "\n",
    "# HSV Split\n",
    "hsv_split = cv2.cvtColor(butterfly, cv2.COLOR_BGR2HSV)\n",
    "h, s, v = cv2.split(hsv_split)\n",
    "hsv_split = np.concatenate([h, s, v], axis=1)\n",
    "cv2.imshow('HSV', hsv_split)\n",
    "\n",
    "cv2.waitKey(0)\n",
    "cv2.destroyAllWindows()"
   ]
  },
  {
   "cell_type": "code",
   "execution_count": 12,
   "id": "994a5351",
   "metadata": {},
   "outputs": [
    {
     "data": {
      "text/plain": [
       "(356, 1479)"
      ]
     },
     "execution_count": 12,
     "metadata": {},
     "output_type": "execute_result"
    }
   ],
   "source": [
    "hsv_split.shape"
   ]
  },
  {
   "cell_type": "markdown",
   "id": "3fa253b2",
   "metadata": {},
   "source": [
    "Color to Gray:"
   ]
  },
  {
   "cell_type": "code",
   "execution_count": 13,
   "id": "c882a193",
   "metadata": {},
   "outputs": [
    {
     "data": {
      "text/plain": [
       "True"
      ]
     },
     "execution_count": 13,
     "metadata": {},
     "output_type": "execute_result"
    }
   ],
   "source": [
    "gray = cv2.cvtColor(butterfly, cv2.COLOR_RGB2GRAY)\n",
    "cv2.imwrite('gray_butterfly.jpg', gray)"
   ]
  },
  {
   "cell_type": "markdown",
   "id": "f12aaaf1",
   "metadata": {},
   "source": [
    "Adding transparency to the figure:"
   ]
  },
  {
   "cell_type": "code",
   "execution_count": 14,
   "id": "f63d6d09",
   "metadata": {},
   "outputs": [],
   "source": [
    "b, g, r = [butterfly[:, :, i] for i in range(3)]\n",
    "\n",
    "rgba = cv2.merge((b, g, r, g))\n",
    "cv2.namedWindow('RGBA', cv2.WINDOW_NORMAL)\n",
    "cv2.imshow('rgba', rgba)\n",
    "\n",
    "cv2.imwrite('rgba_butterfly.png', rgba)\n",
    "cv2.waitKey(0)\n",
    "cv2.destroyAllWindows()"
   ]
  },
  {
   "cell_type": "markdown",
   "id": "43ac4406",
   "metadata": {},
   "source": [
    "**Blur, Dilation, Erotion**"
   ]
  },
  {
   "cell_type": "code",
   "execution_count": 23,
   "id": "fbcde223",
   "metadata": {},
   "outputs": [],
   "source": [
    "thresh = cv2.imread(r'C:\\Users\\Lenovo\\Desktop\\open_cv_data\\Exercise Files\\Ch02\\02_06 Begin\\thresh.jpg')\n",
    "\n",
    "cv2.imshow('Thresh', thresh)\n",
    "cv2.moveWindow('Thresh', 0, 0)\n",
    "\n",
    "height, width = thresh.shape[0], thresh.shape[1]\n",
    "\n",
    "#Let's gaussian blur the image respectively on y and x axis. Note that gaussian blur coefficients need to be odd numbers.\n",
    "\n",
    "blur_y = cv2.GaussianBlur(thresh, (1, 33), 0)\n",
    "cv2.imshow('Blur_y', blur_y)\n",
    "cv2.moveWindow('Blur_y', thresh.shape[1], 1)\n",
    "\n",
    "blur_x = cv2.GaussianBlur(thresh, (33, 1), 0)\n",
    "cv2.imshow('Blur_x', blur_x)\n",
    "cv2.moveWindow('Blur_x', 2*thresh.shape[1], 1)\n",
    "\n",
    "cv2.waitKey(0)\n",
    "cv2.destroyAllWindows()"
   ]
  },
  {
   "cell_type": "code",
   "execution_count": 30,
   "id": "f5af890e",
   "metadata": {},
   "outputs": [],
   "source": [
    "# Now, we will dilate and erode images. Axis lengths still need to be odd numbers \n",
    "\n",
    "kernel = np.ones((2, 2), 'uint8')/2\n",
    "\n",
    "dilate = cv2.dilate(thresh, kernel, iterations=1)\n",
    "erode = cv2.erode(thresh, kernel, iterations=1)\n",
    "\n",
    "cv2.imshow('Original', thresh)\n",
    "cv2.moveWindow('Original', 0, 0)\n",
    "cv2.imshow('Dilate', dilate)\n",
    "cv2.moveWindow('Dilate', width, 0)\n",
    "cv2.imshow('Erode', erode)\n",
    "cv2.moveWindow('Erode', width*2, 0)\n",
    "\n",
    "cv2.waitKey(0)\n",
    "cv2.destroyAllWindows()"
   ]
  },
  {
   "cell_type": "markdown",
   "id": "fb0cb5f8",
   "metadata": {},
   "source": [
    "Scale the image:"
   ]
  },
  {
   "cell_type": "code",
   "execution_count": 75,
   "id": "0ffbc997",
   "metadata": {},
   "outputs": [],
   "source": [
    "players = cv2.imread(r'C:\\Users\\Lenovo\\Desktop\\open_cv_data\\Exercise Files\\Ch02\\02_07 Begin\\players.jpg')\n",
    "cv2.imshow('Players', players)\n",
    "\n",
    "resize = cv2.resize(players, (0,0), fx=0.5, fy=0.5)\n",
    "cv2.imshow('Resize', resize)\n",
    "\n",
    "stretch = cv2.resize(players, (600, 600))\n",
    "cv2.imshow('Stretch', stretch)\n",
    "\n",
    "interpolation = cv2.resize(players, (600, 600), cv2.INTER_NEAREST)\n",
    "cv2.imshow('Interpolation', interpolation)\n",
    "\n",
    "cv2.waitKey(0)\n",
    "cv2.destroyAllWindows()"
   ]
  },
  {
   "cell_type": "markdown",
   "id": "c21c938d",
   "metadata": {},
   "source": [
    "Rotate the image:"
   ]
  },
  {
   "cell_type": "code",
   "execution_count": 95,
   "id": "5427f1ba",
   "metadata": {},
   "outputs": [],
   "source": [
    "# we need to specify the origin of rotation in the matrix additionaly with rotation degree and scale\n",
    "M = cv2.getRotationMatrix2D((players.shape[1]/2, players.shape[0]/2), 90, 0.5)\n",
    "rotate = cv2.warpAffine(players, M, (players.shape[1], players.shape[0]))\n",
    "\n",
    "cv2.imshow('30', rotate)\n",
    "\n",
    "cv2.waitKey(0)\n",
    "cv2.destroyAllWindows()"
   ]
  },
  {
   "cell_type": "markdown",
   "id": "836815a3",
   "metadata": {},
   "source": [
    "**Video Capture**"
   ]
  },
  {
   "cell_type": "code",
   "execution_count": 102,
   "id": "0f084e47",
   "metadata": {},
   "outputs": [],
   "source": [
    "cap = cv2.VideoCapture(0)\n",
    "\n",
    "point = (0, 0)\n",
    "radius = 100\n",
    "color = (0, 255, 0)\n",
    "line_width = 3\n",
    "\n",
    "while True:\n",
    "    ret, frame = cap.read()\n",
    "    cv2.circle(frame, point, radius, color, line_width)\n",
    "    \n",
    "    frame = cv2.resize(frame, (0,0), fx=0.5, fy=0.5)\n",
    "    cv2.imshow('Frame', frame)\n",
    "    \n",
    "    ch = cv2.waitKey(1)\n",
    "    \n",
    "    if ch & 0XFF == ord('q'):\n",
    "        break\n",
    "        \n",
    "cap.release()\n",
    "cv2.destroyAllWindows()        "
   ]
  },
  {
   "cell_type": "markdown",
   "id": "e23e4a8b",
   "metadata": {},
   "source": [
    "Rotating pictures by manipulating through indexes:"
   ]
  },
  {
   "cell_type": "code",
   "execution_count": 103,
   "id": "e8590e37",
   "metadata": {},
   "outputs": [],
   "source": [
    "players = cv2.imread(r'C:\\Users\\Lenovo\\Desktop\\open_cv_data\\Exercise Files\\Ch02\\02_07 Begin\\players.jpg')\n",
    "cv2.imshow('Players', players)\n",
    "\n",
    "p = players.copy()\n",
    "p[:, :] = p[::-1, ::-1]\n",
    "cv2.imshow('P', p)\n",
    "\n",
    "p2 = players.copy()\n",
    "p2[:, :] = p2[:, ::-1]\n",
    "cv2.imshow('P2', p2)\n",
    "\n",
    "cv2.waitKey(0)\n",
    "cv2.destroyAllWindows()"
   ]
  },
  {
   "cell_type": "code",
   "execution_count": 115,
   "id": "32ea10a5",
   "metadata": {},
   "outputs": [
    {
     "name": "stdout",
     "output_type": "stream",
     "text": [
      "pressed\n",
      "pressed\n",
      "pressed\n"
     ]
    }
   ],
   "source": [
    "cap = cv2.VideoCapture(0)\n",
    "\n",
    "point = (0, 0)\n",
    "radius = 100\n",
    "color = (0, 0, 255)\n",
    "line_width = 3\n",
    "\n",
    "def click(event, x, y, flags, param):\n",
    "    global point, pressed \n",
    "    if event == cv2.EVENT_LBUTTONDOWN:\n",
    "        print('pressed')\n",
    "        point = (x, y)\n",
    "    \n",
    "cv2.namedWindow('Frame')    \n",
    "cv2.setMouseCallback('Frame', click)\n",
    " \n",
    "while True:\n",
    "    ret, frame = cap.read()\n",
    "    cv2.circle(frame, point, radius, color, line_width)\n",
    "    \n",
    "    frame = cv2.resize(frame, (0, 0), fx=1, fy=1)\n",
    "    cv2.imshow('Frame', frame)\n",
    "    ch = cv2.waitKey(1)\n",
    "    if ch & 0XFF == ord('q'):\n",
    "        break\n",
    "        \n",
    "cap.release()        \n",
    "cv2.destroyAllWindows()"
   ]
  },
  {
   "cell_type": "markdown",
   "id": "89ac7b84",
   "metadata": {},
   "source": [
    "A simple drawing notebook:"
   ]
  },
  {
   "cell_type": "code",
   "execution_count": 150,
   "id": "0088e43c",
   "metadata": {},
   "outputs": [],
   "source": [
    "cap = cv2.VideoCapture(0)\n",
    "\n",
    "point = (0, 0)\n",
    "radius = 5\n",
    "color = (0,255, 0) \n",
    "\n",
    "canvas = np.ones([500, 500, 3], 'uint8')\n",
    "\n",
    "def click(event, x, y, flags, param):\n",
    "    global canvas, pressed\n",
    "    if event == cv2.EVENT_LBUTTONDOWN:\n",
    "        cv2.circle(canvas, (x,y), radius, color,-1)\n",
    "        pressed = True\n",
    "    elif event == cv2.EVENT_MOUSEMOVE and pressed == True:\n",
    "        cv2.circle(canvas, (x, y), radius, color, -1)\n",
    "    elif event == cv2.EVENT_LBUTTONUP:\n",
    "        pressed = False\n",
    "        c = (0, 0, 255)\n",
    "        cv2.circle(canvas, (x, y), radius, c, -1) \n",
    "    elif event == cv2.EVENT_MOUSEMOVE and pressed == False:\n",
    "        c = (0, 0, 255)\n",
    "        cv2.circle(canvas, (x, y), radius, c, -1)\n",
    "\n",
    "cv2.namedWindow('Canvas')\n",
    "cv2.setMouseCallback('Canvas', click)\n",
    "    \n",
    "while True:\n",
    "    \n",
    "    cv2.imshow('Canvas', canvas)\n",
    "    ch = cv2.waitKey(1)\n",
    "    if ch & 0XFF == ord('q'):\n",
    "        break\n",
    "    \n",
    "cv2.waitKey(0)     \n",
    "cv2.destroyAllWindows()        "
   ]
  },
  {
   "cell_type": "code",
   "execution_count": null,
   "id": "7a97ef42",
   "metadata": {},
   "outputs": [],
   "source": []
  }
 ],
 "metadata": {
  "kernelspec": {
   "display_name": "Python 3",
   "language": "python",
   "name": "python3"
  },
  "language_info": {
   "codemirror_mode": {
    "name": "ipython",
    "version": 3
   },
   "file_extension": ".py",
   "mimetype": "text/x-python",
   "name": "python",
   "nbconvert_exporter": "python",
   "pygments_lexer": "ipython3",
   "version": "3.8.8"
  }
 },
 "nbformat": 4,
 "nbformat_minor": 5
}
